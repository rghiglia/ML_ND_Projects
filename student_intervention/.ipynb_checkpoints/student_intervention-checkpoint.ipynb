{
 "cells": [
  {
   "cell_type": "markdown",
   "metadata": {},
   "source": [
    "# Project 2: Supervised Learning\n",
    "### Building a Student Intervention System"
   ]
  },
  {
   "cell_type": "markdown",
   "metadata": {},
   "source": [
    "## 1. Classification vs Regression\n",
    "\n",
    "Your goal is to identify students who might need early intervention - which type of supervised machine learning problem is this, classification or regression? Why?\n",
    "\n",
    "The problem is one of classification because the target (graduation yes/no) is binary or more generally is a categorical variable. "
   ]
  },
  {
   "cell_type": "markdown",
   "metadata": {},
   "source": [
    "## 2. Exploring the Data\n",
    "\n",
    "Let's go ahead and read in the student dataset first.\n",
    "\n",
    "_To execute a code cell, click inside it and press **Shift+Enter**._"
   ]
  },
  {
   "cell_type": "code",
   "execution_count": 1,
   "metadata": {
    "collapsed": false
   },
   "outputs": [],
   "source": [
    "# Import libraries\n",
    "import numpy as np\n",
    "import pandas as pd"
   ]
  },
  {
   "cell_type": "code",
   "execution_count": 2,
   "metadata": {
    "collapsed": false
   },
   "outputs": [
    {
     "name": "stdout",
     "output_type": "stream",
     "text": [
      "Student data read successfully!\n"
     ]
    }
   ],
   "source": [
    "# Read student data\n",
    "student_data = pd.read_csv(\"student-data.csv\")\n",
    "print \"Student data read successfully!\"\n",
    "# Note: The last column 'passed' is the target/label, all other are feature columns"
   ]
  },
  {
   "cell_type": "markdown",
   "metadata": {},
   "source": [
    "Now, can you find out the following facts about the dataset?\n",
    "- Total number of students\n",
    "- Number of students who passed\n",
    "- Number of students who failed\n",
    "- Graduation rate of the class (%)\n",
    "- Number of features\n",
    "\n",
    "_Use the code block below to compute these values. Instructions/steps are marked using **TODO**s._"
   ]
  },
  {
   "cell_type": "code",
   "execution_count": 3,
   "metadata": {
    "collapsed": false
   },
   "outputs": [
    {
     "name": "stdout",
     "output_type": "stream",
     "text": [
      "Total number of students: 395\n",
      "Number of students who passed: 265\n",
      "Number of students who failed: 130\n",
      "Number of features: 30\n",
      "Graduation rate of the class: 67.09%\n"
     ]
    }
   ],
   "source": [
    "# TODO: Compute desired values - replace each '?' with an appropriate expression/function call\n",
    "nO, nF = student_data.shape\n",
    "col_nm = student_data.columns.tolist()\n",
    "pss = student_data[col_nm[-1]]\n",
    "\n",
    "isPass = np.array(pss=='yes')\n",
    "nPass = sum(isPass==True)\n",
    "nFail = sum(isPass==False)\n",
    "grad = float(nPass) / float(nO)\n",
    "\n",
    "n_students = nO\n",
    "n_features = nF-1 # snafu: thanks, last column is the target ...\n",
    "n_passed = nPass\n",
    "n_failed = nFail\n",
    "grad_rate = grad*100\n",
    "print \"Total number of students: {}\".format(n_students)\n",
    "print \"Number of students who passed: {}\".format(n_passed)\n",
    "print \"Number of students who failed: {}\".format(n_failed)\n",
    "print \"Number of features: {}\".format(n_features)\n",
    "print \"Graduation rate of the class: {:.2f}%\".format(grad_rate)"
   ]
  },
  {
   "cell_type": "markdown",
   "metadata": {},
   "source": [
    "## 3. Preparing the Data\n",
    "In this section, we will prepare the data for modeling, training and testing.\n",
    "\n",
    "### Identify feature and target columns\n",
    "It is often the case that the data you obtain contains non-numeric features. This can be a problem, as most machine learning algorithms expect numeric data to perform computations with.\n",
    "\n",
    "Let's first separate our data into feature and target columns, and see if any features are non-numeric.<br/>\n",
    "**Note**: For this dataset, the last column (`'passed'`) is the target or label we are trying to predict."
   ]
  },
  {
   "cell_type": "code",
   "execution_count": 4,
   "metadata": {
    "collapsed": false
   },
   "outputs": [
    {
     "name": "stdout",
     "output_type": "stream",
     "text": [
      "Feature column(s):-\n",
      "['school', 'sex', 'age', 'address', 'famsize', 'Pstatus', 'Medu', 'Fedu', 'Mjob', 'Fjob', 'reason', 'guardian', 'traveltime', 'studytime', 'failures', 'schoolsup', 'famsup', 'paid', 'activities', 'nursery', 'higher', 'internet', 'romantic', 'famrel', 'freetime', 'goout', 'Dalc', 'Walc', 'health', 'absences']\n",
      "\n",
      "Target column: passed\n",
      "\n",
      "\n",
      "Feature values:-\n",
      "  school sex  age address famsize Pstatus  Medu  Fedu     Mjob      Fjob  \\\n",
      "0     GP   F   18       U     GT3       A     4     4  at_home   teacher   \n",
      "1     GP   F   17       U     GT3       T     1     1  at_home     other   \n",
      "2     GP   F   15       U     LE3       T     1     1  at_home     other   \n",
      "3     GP   F   15       U     GT3       T     4     2   health  services   \n",
      "4     GP   F   16       U     GT3       T     3     3    other     other   \n",
      "\n",
      "    ...    higher internet  romantic  famrel  freetime goout Dalc Walc health  \\\n",
      "0   ...       yes       no        no       4         3     4    1    1      3   \n",
      "1   ...       yes      yes        no       5         3     3    1    1      3   \n",
      "2   ...       yes      yes        no       4         3     2    2    3      3   \n",
      "3   ...       yes      yes       yes       3         2     2    1    1      5   \n",
      "4   ...       yes       no        no       4         3     2    1    2      5   \n",
      "\n",
      "  absences  \n",
      "0        6  \n",
      "1        4  \n",
      "2       10  \n",
      "3        2  \n",
      "4        4  \n",
      "\n",
      "[5 rows x 30 columns]\n"
     ]
    }
   ],
   "source": [
    "# Extract feature (X) and target (y) columns\n",
    "feature_cols = list(student_data.columns[:-1])  # all columns but last are features\n",
    "target_col = student_data.columns[-1]           # last column is the target/label\n",
    "print \"Feature column(s):-\\n{}\".format(feature_cols)\n",
    "print \"\\nTarget column: {}\".format(target_col)\n",
    "\n",
    "X_org = student_data[feature_cols]  # feature values for all students\n",
    "y_org = student_data[target_col]    # corresponding targets/labels\n",
    "print \"\\n\\nFeature values:-\"\n",
    "print X_org.head()  # print the first 5 rows"
   ]
  },
  {
   "cell_type": "markdown",
   "metadata": {},
   "source": [
    "### Preprocess feature columns\n",
    "\n",
    "As you can see, there are several non-numeric columns that need to be converted! Many of them are simply `yes`/`no`, e.g. `internet`. These can be reasonably converted into `1`/`0` (binary) values.\n",
    "\n",
    "Other columns, like `Mjob` and `Fjob`, have more than two values, and are known as _categorical variables_. The recommended way to handle such a column is to create as many columns as possible values (e.g. `Fjob_teacher`, `Fjob_other`, `Fjob_services`, etc.), and assign a `1` to one of them and `0` to all others.\n",
    "\n",
    "These generated columns are sometimes called _dummy variables_, and we will use the [`pandas.get_dummies()`](http://pandas.pydata.org/pandas-docs/stable/generated/pandas.get_dummies.html?highlight=get_dummies#pandas.get_dummies) function to perform this transformation."
   ]
  },
  {
   "cell_type": "code",
   "execution_count": 5,
   "metadata": {
    "collapsed": false
   },
   "outputs": [
    {
     "name": "stdout",
     "output_type": "stream",
     "text": [
      "Processed feature columns (48):-\n",
      "['school_GP', 'school_MS', 'sex_F', 'sex_M', 'age', 'address_R', 'address_U', 'famsize_GT3', 'famsize_LE3', 'Pstatus_A', 'Pstatus_T', 'Medu', 'Fedu', 'Mjob_at_home', 'Mjob_health', 'Mjob_other', 'Mjob_services', 'Mjob_teacher', 'Fjob_at_home', 'Fjob_health', 'Fjob_other', 'Fjob_services', 'Fjob_teacher', 'reason_course', 'reason_home', 'reason_other', 'reason_reputation', 'guardian_father', 'guardian_mother', 'guardian_other', 'traveltime', 'studytime', 'failures', 'schoolsup', 'famsup', 'paid', 'activities', 'nursery', 'higher', 'internet', 'romantic', 'famrel', 'freetime', 'goout', 'Dalc', 'Walc', 'health', 'absences']\n"
     ]
    }
   ],
   "source": [
    "# Preprocess feature columns\n",
    "def preprocess_features(X):\n",
    "    outX = pd.DataFrame(index=X.index)  # output dataframe, initially empty\n",
    "\n",
    "    # Check each column\n",
    "    for col, col_data in X.iteritems():\n",
    "        # If data type is non-numeric, try to replace all yes/no values with 1/0\n",
    "        if col_data.dtype == object:\n",
    "            col_data = col_data.replace(['yes', 'no'], [1, 0])\n",
    "        # Note: This should change the data type for yes/no columns to int\n",
    "\n",
    "        # If still non-numeric, convert to one or more dummy variables\n",
    "        if col_data.dtype == object:\n",
    "            col_data = pd.get_dummies(col_data, prefix=col)  # e.g. 'school' => 'school_GP', 'school_MS'\n",
    "\n",
    "        outX = outX.join(col_data)  # collect column(s) in output dataframe\n",
    "\n",
    "    return outX\n",
    "\n",
    "X_org_aug = preprocess_features(X_org)\n",
    "print \"Processed feature columns ({}):-\\n{}\".format(len(X_org_aug.columns), list(X_org_aug.columns))"
   ]
  },
  {
   "cell_type": "markdown",
   "metadata": {},
   "source": [
    "### Split data into training and test sets\n",
    "\n",
    "So far, we have converted all _categorical_ features into numeric values. In this next step, we split the data (both features and corresponding labels) into training and test sets."
   ]
  },
  {
   "cell_type": "code",
   "execution_count": 6,
   "metadata": {
    "collapsed": false
   },
   "outputs": [
    {
     "name": "stdout",
     "output_type": "stream",
     "text": [
      "Training set: 300 samples\n",
      "Test set: 95 samples\n"
     ]
    },
    {
     "data": {
      "image/png": "[encoded data removed]",
      "text/plain": [
       "<matplotlib.figure.Figure at 0x9e47be0>"
      ]
     },
     "metadata": {},
     "output_type": "display_data"
    },
    {
     "data": {
      "image/png": "[encoded data removed]",
      "text/plain": [
       "<matplotlib.figure.Figure at 0xa00fd30>"
      ]
     },
     "metadata": {},
     "output_type": "display_data"
    }
   ],
   "source": [
    "# First, decide how many training vs test samples you want\n",
    "num_all = student_data.shape[0]  # same as len(student_data)\n",
    "num_train = 300  # about 75% of the data\n",
    "num_test = num_all - num_train\n",
    "\n",
    "# TODO: Then, select features (X) and corresponding labels (y) for the training and test sets\n",
    "# Note: Shuffle the data or randomly select samples to avoid any bias due to ordering in the dataset\n",
    "from sklearn.utils import shuffle\n",
    "ixs = shuffle(X_org_aug.index, random_state=0)\n",
    "\n",
    "# Revision feedback: compare random sampleing with stratified sampling\n",
    "from sklearn.cross_validation import StratifiedShuffleSplit\n",
    "\n",
    "nS = 50\n",
    "grd_rand = np.zeros([nS,1])\n",
    "grd_strf = np.zeros([nS,1])\n",
    "y_tgt = y_org.replace(['yes', 'no'],[1, 0])\n",
    "for i in range(50):\n",
    "    ixs_tmp = shuffle(X_org_aug.index, random_state=i)\n",
    "    grd_rand[i] = float(sum(y_tgt[ixs_tmp[:num_train]]==1)) / num_train\n",
    "    \n",
    "    strf = StratifiedShuffleSplit(y_tgt, 1, test_size=num_test, random_state=i)\n",
    "    for train_index, test_index in strf:\n",
    "        _ = False\n",
    "    \n",
    "    grd_strf[i] = float(sum(y_tgt[train_index]==1)) / len(train_index)\n",
    "\n",
    "# Make matplotlib show our plots inline (nicely formatted in the notebook)\n",
    "import matplotlib.pyplot as pl\n",
    "%matplotlib inline\n",
    "\n",
    "fig = pl.figure(1)\n",
    "ax1 = fig.add_subplot(111)\n",
    "_ = ax1.hist(grd_rand)\n",
    "ax1.set_title('% Graduates With Random Permutation')\n",
    "fig = pl.figure(2)\n",
    "ax2 = fig.add_subplot(111)\n",
    "_ = ax2.hist(grd_strf)\n",
    "ax2.set_title('% Graduates With Stratified Permutation')\n",
    "# Note: the little blip on the last histogram around 0.2 is a graphical issue\n",
    "# >>>> any(grd_strf<0.67) = False\n",
    "\n",
    "# Revise: stratified samplying \"guarantees\" the ratio of graduation when splitting the sample\n",
    "ixs = np.concatenate((train_index, test_index))\n",
    "\n",
    "\n",
    "X_tmp_aug, y_tmp = X_org_aug.reindex(ixs), y_org.reindex(ixs)\n",
    "\n",
    "X_train, y_train = X_tmp_aug.ix[ixs[:num_train],:], y_tmp[ixs[:num_train]]\n",
    "X_test, y_test = X_tmp_aug.ix[ixs[num_train:],:], y_tmp[ixs[num_train:]]\n",
    "\n",
    "print \"Training set: {} samples\".format(X_train.shape[0])\n",
    "print \"Test set: {} samples\".format(X_test.shape[0])\n",
    "# Note: If you need a validation set, extract it from within training data\n",
    "\n"
   ]
  },
  {
   "cell_type": "markdown",
   "metadata": {},
   "source": [
    "## 4. Training and Evaluating Models\n",
    "Choose 3 supervised learning models that are available in scikit-learn, and appropriate for this problem. For each model:\n",
    "\n",
    "- What is the theoretical O(n) time & space complexity in terms of input size?\n",
    "- What are the general applications of this model? What are its strengths and weaknesses?\n",
    "- Given what you know about the data so far, why did you choose this model to apply?\n",
    "- Fit this model to the training data, try to predict labels (for both training and test sets), and measure the F<sub>1</sub> score. Repeat this process with different training set sizes (100, 200, 300), keeping test set constant.\n",
    "\n",
    "Produce a table showing training time, prediction time, F<sub>1</sub> score on training set and F<sub>1</sub> score on test set, for each training set size.\n",
    "\n",
    "Note: You need to produce 3 such tables - one for each model.\n",
    "\n",
    "\n",
    "Overall review of 3 supervised learning algos\n",
    "\n",
    "Given that the problem is one of classification (digital outcome) I will choose 3 algorithms that are more tuned to that: SVM, k-NN, and decision tree.\n",
    "\n",
    "\n",
    "O(n)\n",
    "\n",
    "- SVM is the most challenging being of O(n) ~ d * n<sup>2</sup> to d * n<sup>3</sup>\n",
    "- k-NN is O(n) ~ d * n * log(n) or d * n<sup>2</sup>\n",
    "- Decision tree can be reduced to log(n)\n",
    "\n",
    "\n",
    "Strengths\n",
    "\n",
    "- SVM deals well with high dimensional problems and is robust and versatile through choices of different kernel functions\n",
    "- k-NN is non-parametric; it is therefore more robust and good for complex decision boundaries\n",
    "- Decision tree are fast, can be visualized and are robust to outliers\n",
    "\n",
    "\n",
    "Weaknesses\n",
    "\n",
    "- SVM can be challenging if # of features is larger than # of samples (This should be a bad state of affairs in general, because the problem in under-determined: one should be able to drive the training error down to zero, if the problem has a well-defined solution)\n",
    "- k-NN will not 'generalize globally': to the degree to which there is a (relatively) regular association between inputs (features) and outputs (target), e.g. well described by low polynomials, the problem has a structure that will not be majorly exploited by the k-NN, almost surely less than a regression model. The 'nearest neaighbor' part of the kNN will instead leverage local relationships. If there is a true low-complex relationship a kNN might be proner to overfit locally. In particular, and importantly, a low-complexity classifier like a polynomial regressor will do a much better job in extending beyond the range of typical data  \n",
    "- Decision trees are prone to overfitting; in addition, certain problems like XOR are hard for trees\n",
    "\n",
    "\n",
    "Justifying choices\n",
    "\n",
    "The problem is certainly complex: we turned it into 48 features with a sample of size of 300. It is unlikely that the data samples the space properly. So local approximators like k-NN are probably good. SVM should be able to handle complex boundaries and decision tree can be visualized so that it might help checking our intuition (although I was not able to use pydot to do that).\n",
    "\n",
    "I left out Naive Bayes, in part because of the conditional independence assumption. Note that the preprocessing method will convert {'yes','no'} features into {0,1}, however, other variables that also assume two values, e.g. sex = {'M','F'} are converted into 2 features, which are actually exactly 100% correlated (one is the opposite of the other). Also other variables that contain 3 values are dependent (if you have a feature 'a' \\in {a_1, a_2, a_3} and know the value of a_1 (= 0 or 1), a_2 (= 0 or 1), you'll know the value of a_3).\n",
    "\n"
   ]
  },
  {
   "cell_type": "code",
   "execution_count": 7,
   "metadata": {
    "collapsed": false
   },
   "outputs": [
    {
     "name": "stdout",
     "output_type": "stream",
     "text": [
      "SVC(C=1.0, cache_size=200, class_weight=None, coef0=0.0,\n",
      "  decision_function_shape=None, degree=3, gamma='auto', kernel='rbf',\n",
      "  max_iter=-1, probability=False, random_state=None, shrinking=True,\n",
      "  tol=0.001, verbose=False)\n"
     ]
    }
   ],
   "source": [
    "# Train a model\n",
    "import time\n",
    "\n",
    "def train_classifier(clf, X_train, y_train):\n",
    "    #print \"Training {}...\".format(clf.__class__.__name__)\n",
    "    start = time.time()\n",
    "    clf.fit(X_train, y_train)\n",
    "    end = time.time()\n",
    "    #print \"Done!\\nTraining time (secs): {:.3f}\".format(end - start)\n",
    "    return end - start\n",
    "\n",
    "# TODO: Choose a model, import it and instantiate an object\n",
    "from sklearn import svm\n",
    "clf = svm.SVC()\n",
    "\n",
    "# Fit model to training data\n",
    "train_classifier(clf, X_train, y_train)  # note: using entire training set here\n",
    "print clf  # you can inspect the learned model by printing it"
   ]
  },
  {
   "cell_type": "code",
   "execution_count": 8,
   "metadata": {
    "collapsed": false
   },
   "outputs": [
    {
     "name": "stdout",
     "output_type": "stream",
     "text": [
      "F1 score for training set: 0.851063829787\n"
     ]
    }
   ],
   "source": [
    "# Predict on training set and compute F1 score\n",
    "from sklearn.metrics import f1_score\n",
    "\n",
    "def predict_labels(clf, features, target):\n",
    "    #print \"Predicting labels using {}...\".format(clf.__class__.__name__)\n",
    "    t_start = time.time()\n",
    "    y_pred = clf.predict(features)\n",
    "    t_end = time.time()\n",
    "    dt = t_end - t_start\n",
    "    #print \"Done!\\nPrediction time (secs): {:.3f}\".format(dt)\n",
    "    return (f1_score(target.values, y_pred, pos_label='yes'), dt)\n",
    "\n",
    "train_f1_score, dt = predict_labels(clf, X_train, y_train)\n",
    "print \"F1 score for training set: {}\".format(train_f1_score)"
   ]
  },
  {
   "cell_type": "code",
   "execution_count": 9,
   "metadata": {
    "collapsed": false
   },
   "outputs": [
    {
     "name": "stdout",
     "output_type": "stream",
     "text": [
      "F1 score for test set: 0.812903225806\n"
     ]
    }
   ],
   "source": [
    "# Predict on test data\n",
    "f1_tmp, dt_tmp = predict_labels(clf, X_test, y_test)\n",
    "print \"F1 score for test set: {}\".format(f1_tmp)"
   ]
  },
  {
   "cell_type": "code",
   "execution_count": 10,
   "metadata": {
    "collapsed": false
   },
   "outputs": [
    {
     "name": "stdout",
     "output_type": "stream",
     "text": [
      "SVM\n"
     ]
    },
    {
     "data": {
      "text/html": [
       "<div>\n",
       "<table border=\"1\" class=\"dataframe\">\n",
       "  <thead>\n",
       "    <tr style=\"text-align: right;\">\n",
       "      <th></th>\n",
       "      <th>train</th>\n",
       "      <th>test</th>\n",
       "      <th>train time</th>\n",
       "      <th>test time</th>\n",
       "    </tr>\n",
       "  </thead>\n",
       "  <tbody>\n",
       "    <tr>\n",
       "      <th>100</th>\n",
       "      <td>0.860759</td>\n",
       "      <td>0.815287</td>\n",
       "      <td>0.016</td>\n",
       "      <td>0</td>\n",
       "    </tr>\n",
       "    <tr>\n",
       "      <th>200</th>\n",
       "      <td>0.867314</td>\n",
       "      <td>0.825806</td>\n",
       "      <td>0.000</td>\n",
       "      <td>0</td>\n",
       "    </tr>\n",
       "    <tr>\n",
       "      <th>300</th>\n",
       "      <td>0.851064</td>\n",
       "      <td>0.812903</td>\n",
       "      <td>0.016</td>\n",
       "      <td>0</td>\n",
       "    </tr>\n",
       "  </tbody>\n",
       "</table>\n",
       "</div>"
      ],
      "text/plain": [
       "        train      test  train time  test time\n",
       "100  0.860759  0.815287       0.016          0\n",
       "200  0.867314  0.825806       0.000          0\n",
       "300  0.851064  0.812903       0.016          0"
      ]
     },
     "metadata": {},
     "output_type": "display_data"
    }
   ],
   "source": [
    "# Train and predict using different training set sizes\n",
    "def train_predict(clf, X_train, y_train, X_test, y_test):\n",
    "    #print \"------------------------------------------\"\n",
    "    #print \"Training set size: {}\".format(len(X_train))\n",
    "    dt_train = train_classifier(clf, X_train, y_train)\n",
    "    f1_train, dt_train_prd = predict_labels(clf, X_train, y_train)\n",
    "    f1_test, dt_test_prd = predict_labels(clf, X_test, y_test)\n",
    "    #print \"Training time (secs): {:.3f}\".format(dt_train)\n",
    "    #print \"F1 score for training set: {}\".format(f1_train)\n",
    "    #print \"F1 score for test set: {}\".format(f1_test)\n",
    "    return (f1_train, f1_test, dt_train, dt_test_prd)\n",
    "\n",
    "# TODO: Run the helper function above for desired subsets of training data\n",
    "# Note: Keep the test set constant\n",
    "\n",
    "X1, y1 = X_train.ix[ixs[0:100],:], y_train[ixs[0:100]] \n",
    "X2, y2 = X_train.ix[ixs[0:200],:], y_train[ixs[0:200]] \n",
    "X3, y3 = X_train, y_train # memory inefficient, but improving legibility \n",
    "f11_train, f11_test, dt1_train, dt1_test = train_predict(clf, X1, y1, X_test, y_test)\n",
    "f12_train, f12_test, dt2_train, dt2_test = train_predict(clf, X2, y2, X_test, y_test)\n",
    "f13_train, f13_test, dt3_train, dt3_test = train_predict(clf, X3, y3, X_test, y_test)\n",
    "\n",
    "from pandas import DataFrame\n",
    "df_SVM = DataFrame(columns={'train', 'test', 'train time', 'test time'}, index=(100, 200, 300))\n",
    "df_SVM['train'] = [f11_train, f12_train, f13_train]\n",
    "df_SVM['test'] = [f11_test, f12_test, f13_test]\n",
    "df_SVM['train time'] = [dt1_train, dt2_train, dt3_train]\n",
    "df_SVM['test time'] = [dt1_test, dt2_test, dt3_test]\n",
    "df_SVM = df_SVM[['train', 'test', 'train time', 'test time']]\n",
    "\n",
    "\n",
    "from IPython.display import display, HTML\n",
    "print \"SVM\"\n",
    "display(df_SVM)\n"
   ]
  },
  {
   "cell_type": "code",
   "execution_count": 11,
   "metadata": {
    "collapsed": false
   },
   "outputs": [
    {
     "name": "stdout",
     "output_type": "stream",
     "text": [
      "\n",
      "Summary Paramaters of Classifiers\n"
     ]
    },
    {
     "data": {
      "text/html": [
       "<div>\n",
       "<table border=\"1\" class=\"dataframe\">\n",
       "  <thead>\n",
       "    <tr style=\"text-align: right;\">\n",
       "      <th></th>\n",
       "      <th>Parameter</th>\n",
       "      <th>Value</th>\n",
       "    </tr>\n",
       "  </thead>\n",
       "  <tbody>\n",
       "    <tr>\n",
       "      <th>SVM</th>\n",
       "      <td>C</td>\n",
       "      <td>1</td>\n",
       "    </tr>\n",
       "    <tr>\n",
       "      <th>kNN</th>\n",
       "      <td>n_neighbors</td>\n",
       "      <td>3</td>\n",
       "    </tr>\n",
       "    <tr>\n",
       "      <th>DT</th>\n",
       "      <td>max_depth</td>\n",
       "      <td>3</td>\n",
       "    </tr>\n",
       "  </tbody>\n",
       "</table>\n",
       "</div>"
      ],
      "text/plain": [
       "       Parameter  Value\n",
       "SVM            C      1\n",
       "kNN  n_neighbors      3\n",
       "DT     max_depth      3"
      ]
     },
     "metadata": {},
     "output_type": "display_data"
    },
    {
     "name": "stdout",
     "output_type": "stream",
     "text": [
      "\n",
      "\n",
      "\n",
      "SVM\n"
     ]
    },
    {
     "data": {
      "text/html": [
       "<div>\n",
       "<table border=\"1\" class=\"dataframe\">\n",
       "  <thead>\n",
       "    <tr style=\"text-align: right;\">\n",
       "      <th></th>\n",
       "      <th>train</th>\n",
       "      <th>test</th>\n",
       "      <th>train time</th>\n",
       "      <th>test time</th>\n",
       "    </tr>\n",
       "  </thead>\n",
       "  <tbody>\n",
       "    <tr>\n",
       "      <th>100</th>\n",
       "      <td>0.860759</td>\n",
       "      <td>0.815287</td>\n",
       "      <td>0.016</td>\n",
       "      <td>0</td>\n",
       "    </tr>\n",
       "    <tr>\n",
       "      <th>200</th>\n",
       "      <td>0.867314</td>\n",
       "      <td>0.825806</td>\n",
       "      <td>0.000</td>\n",
       "      <td>0</td>\n",
       "    </tr>\n",
       "    <tr>\n",
       "      <th>300</th>\n",
       "      <td>0.851064</td>\n",
       "      <td>0.812903</td>\n",
       "      <td>0.016</td>\n",
       "      <td>0</td>\n",
       "    </tr>\n",
       "  </tbody>\n",
       "</table>\n",
       "</div>"
      ],
      "text/plain": [
       "        train      test  train time  test time\n",
       "100  0.860759  0.815287       0.016          0\n",
       "200  0.867314  0.825806       0.000          0\n",
       "300  0.851064  0.812903       0.016          0"
      ]
     },
     "metadata": {},
     "output_type": "display_data"
    },
    {
     "name": "stdout",
     "output_type": "stream",
     "text": [
      "\n",
      "\n",
      "kNN\n"
     ]
    },
    {
     "data": {
      "text/html": [
       "<div>\n",
       "<table border=\"1\" class=\"dataframe\">\n",
       "  <thead>\n",
       "    <tr style=\"text-align: right;\">\n",
       "      <th></th>\n",
       "      <th>train</th>\n",
       "      <th>test</th>\n",
       "      <th>train time</th>\n",
       "      <th>test time</th>\n",
       "    </tr>\n",
       "  </thead>\n",
       "  <tbody>\n",
       "    <tr>\n",
       "      <th>100</th>\n",
       "      <td>0.884354</td>\n",
       "      <td>0.785185</td>\n",
       "      <td>0.000</td>\n",
       "      <td>0.000</td>\n",
       "    </tr>\n",
       "    <tr>\n",
       "      <th>200</th>\n",
       "      <td>0.861111</td>\n",
       "      <td>0.833333</td>\n",
       "      <td>0.016</td>\n",
       "      <td>0.016</td>\n",
       "    </tr>\n",
       "    <tr>\n",
       "      <th>300</th>\n",
       "      <td>0.866511</td>\n",
       "      <td>0.791367</td>\n",
       "      <td>0.000</td>\n",
       "      <td>0.016</td>\n",
       "    </tr>\n",
       "  </tbody>\n",
       "</table>\n",
       "</div>"
      ],
      "text/plain": [
       "        train      test  train time  test time\n",
       "100  0.884354  0.785185       0.000      0.000\n",
       "200  0.861111  0.833333       0.016      0.016\n",
       "300  0.866511  0.791367       0.000      0.016"
      ]
     },
     "metadata": {},
     "output_type": "display_data"
    },
    {
     "name": "stdout",
     "output_type": "stream",
     "text": [
      "\n",
      "\n",
      "DT\n"
     ]
    },
    {
     "data": {
      "text/html": [
       "<div>\n",
       "<table border=\"1\" class=\"dataframe\">\n",
       "  <thead>\n",
       "    <tr style=\"text-align: right;\">\n",
       "      <th></th>\n",
       "      <th>train</th>\n",
       "      <th>test</th>\n",
       "      <th>train time</th>\n",
       "      <th>test time</th>\n",
       "    </tr>\n",
       "  </thead>\n",
       "  <tbody>\n",
       "    <tr>\n",
       "      <th>100</th>\n",
       "      <td>0.930556</td>\n",
       "      <td>0.746479</td>\n",
       "      <td>0.000</td>\n",
       "      <td>0</td>\n",
       "    </tr>\n",
       "    <tr>\n",
       "      <th>200</th>\n",
       "      <td>0.909747</td>\n",
       "      <td>0.778626</td>\n",
       "      <td>0.000</td>\n",
       "      <td>0</td>\n",
       "    </tr>\n",
       "    <tr>\n",
       "      <th>300</th>\n",
       "      <td>0.876957</td>\n",
       "      <td>0.805556</td>\n",
       "      <td>0.016</td>\n",
       "      <td>0</td>\n",
       "    </tr>\n",
       "  </tbody>\n",
       "</table>\n",
       "</div>"
      ],
      "text/plain": [
       "        train      test  train time  test time\n",
       "100  0.930556  0.746479       0.000          0\n",
       "200  0.909747  0.778626       0.000          0\n",
       "300  0.876957  0.805556       0.016          0"
      ]
     },
     "metadata": {},
     "output_type": "display_data"
    },
    {
     "name": "stdout",
     "output_type": "stream",
     "text": [
      "\n",
      "\n"
     ]
    }
   ],
   "source": [
    "# TODO: Train and predict using two other models\n",
    "# Nearest Neighbor\n",
    "from sklearn.neighbors import KNeighborsClassifier\n",
    "clf = KNeighborsClassifier(n_neighbors=3, algorithm='ball_tree')\n",
    "\n",
    "f11_train, f11_test, dt1_train, dt1_test = train_predict(clf, X1, y1, X_test, y_test)\n",
    "f12_train, f12_test, dt2_train, dt2_test = train_predict(clf, X2, y2, X_test, y_test)\n",
    "f13_train, f13_test, dt3_train, dt3_test = train_predict(clf, X3, y3, X_test, y_test)\n",
    "\n",
    "df_kNN = DataFrame(columns={'train', 'test', 'train time', 'test time'}, index=(100, 200, 300))\n",
    "df_kNN['train'] = [f11_train, f12_train, f13_train]\n",
    "df_kNN['test'] = [f11_test, f12_test, f13_test]\n",
    "df_kNN['train time'] = [dt1_train, dt2_train, dt3_train]\n",
    "df_kNN['test time'] = [dt1_test, dt2_test, dt3_test]\n",
    "df_kNN = df_kNN[['train', 'test', 'train time', 'test time']]\n",
    "\n",
    "\n",
    "\n",
    "# Decision tree\n",
    "from sklearn.tree import DecisionTreeClassifier\n",
    "clf = DecisionTreeClassifier(max_depth=5)\n",
    "\n",
    "f11_train, f11_test, dt1_train, dt1_test = train_predict(clf, X1, y1, X_test, y_test)\n",
    "f12_train, f12_test, dt2_train, dt2_test = train_predict(clf, X2, y2, X_test, y_test)\n",
    "f13_train, f13_test, dt3_train, dt3_test = train_predict(clf, X3, y3, X_test, y_test)\n",
    "\n",
    "df_DT = DataFrame(columns={'train', 'test', 'train time', 'test time'}, index=(100, 200, 300))\n",
    "df_DT['train'] = [f11_train, f12_train, f13_train]\n",
    "df_DT['test'] = [f11_test, f12_test, f13_test]\n",
    "df_DT['train time'] = [dt1_train, dt2_train, dt3_train]\n",
    "df_DT['test time'] = [dt1_test, dt2_test, dt3_test]\n",
    "df_DT = df_DT[['train', 'test', 'train time', 'test time']]\n",
    "\n",
    "\n",
    "df_descr = DataFrame({'Parameter': ['C', 'n_neighbors', 'max_depth'], 'Value': [1.0, 3, 3]}, index=('SVM', 'kNN', 'DT'))\n",
    "print \"\\nSummary Paramaters of Classifiers\"\n",
    "display(df_descr)\n",
    "\n",
    "print \"\\n\\n\"\n",
    "\n",
    "print \"SVM\"\n",
    "display(df_SVM)\n",
    "print \"\\n\"\n",
    "\n",
    "print \"kNN\"\n",
    "display(df_kNN)\n",
    "print \"\\n\"\n",
    "\n",
    "print \"DT\"\n",
    "display(df_DT)\n",
    "print \"\\n\"\n",
    "\n"
   ]
  },
  {
   "cell_type": "markdown",
   "metadata": {},
   "source": [
    "## 5. Choosing the Best Model\n",
    "\n",
    "- Based on the experiments you performed earlier, in 1-2 paragraphs explain to the board of supervisors what single model you chose as the best model. Which model is generally the most appropriate based on the available data, limited resources, cost, and performance?\n",
    "- In 1-2 paragraphs explain to the board of supervisors in layman's terms how the final model chosen is supposed to work (for example if you chose a Decision Tree or Support Vector Machine, how does it make a prediction).\n",
    "- Fine-tune the model. Use Gridsearch with at least one important parameter tuned and with at least 3 settings. Use the entire training set for this.\n",
    "- What is the model's final F<sub>1</sub> score?\n",
    "\n",
    "Choice of algorithm\n",
    "\n",
    "Models are compared according to:\n",
    "- A perormance measure (\"F<sub>1</sub>\" in the above tables): that measures both how good we are in correctly identifying students who will graduates (and not misclassifying those who won't make it) as well as how good we are at finding all those that graduate (i.e. minimizing those students who we think will not graduate but actually turn out graduating\n",
    "- Time to train: as the data sample increases a slow algorithm can be less desirable even if more precise\n",
    "\n",
    "\n",
    "In fairness, for this problem, I have a slight bias towards the SVM because it is more of a 'camelion' in that in can range from being very rigid to being very flexible (like the amortization in a car: it is great if you can control the stiffness with the tip of your finger; it makes for a great ride in very different conditions). Given that we have so many \n",
    "\n",
    "That said, we can see that the performance of the 3 algorithms on the test set is fairly comparable 0.851, 0.867, and 0.877 for SVM, kNN, and DT, respectively. The decision tree is certainly the fastest, although the data set is so small that training and testing is achieved in well below 1 second for all models.\n",
    "\n",
    "Judging solely by the results on the training set, it is comforting that it follows the intuition: the decision tree is much more prone to over-fitting evidenced by a higher performance with low data (0.93) and losing anout 5% points (0.88) with 300 data points. Even more so, this is confirmed by looking at the test data where the decision tree is the poorest for 100 datapoints and achieves only a performance of 0.73.\n",
    "On the other hand, SVM is a lot more stable, both when we add data (0.86, 0.87. 0.85) as well as when we compare training data (0.85 with n=300) with test data (0.81 with n=95).\n",
    "kNN's performance is somewhere in between. These results give me more confidence that SVM is able to capture enough of the essence of the problem.\n",
    "\n",
    "\n",
    "On a more technical side: the adaptability of the SVM seems to come in handy given that\n",
    "- The problem has a mixture of categorical and continuous variables (like age, # abscenses, etc.) and\n",
    "- If it turned out that there are (continuous) drivers, e.g. absences, age, etc. an algorithm that embeds the ability of being stiffer yet not edgy might be good\n",
    "\n",
    "As a more technical caveat, and not for the board, it might be challenging to pick a model without making broader checks. I mostly used default parameters to train the different models. There is no guarantee that the default parameter values (or any specific set of parameters) will make the algorithms directly comparable. For example, if the classifiers were regressors whereby one had polynomial functions, another exponential functions, and the third trigonometric functions, by fixing the number of degrees of freedom in each to be the same we could make them directly comparable. It does not seem to be the case in this context where algorithms are sunstantially different and there might not be an obvious intrinsic measure of 'complexity' to make them compete on an even field.\n",
    "\n",
    "\n",
    "SVM\n",
    "\n",
    "Imagine you are a ranger, it's you first day on the job, and you are assigned the following task: you need to trace a path through the forest past the meadows. The forest is almost rectangular and is surrounded by meadows. There is a twist though. In the forest there are both pines and cypresses. Your boss wants you to define a path so that when you walk through it you'll have mostly pines on your right and cypresses on your left. Boss is not in a great mood and wants you to make the path as wide as possible while still keeping those trees separate. 'Ah yeah, and please don't make it have a lot of turns, I'm old and I get cranky if I walk too much'.\n",
    "\n",
    "You approach the forest and beginner's luck wants that you approach an edge that clearly shows pines on the right hand side and cypresses on the left. You go in between them and start marking the path. From the meadow, before entering the forest, you could only see the very first row, but now you have a good starting point. You then proceed to the second row and continue marking the path, as wide as possible, so that trees are still separated. Luck is not on your side this time and you find that there is an annoyoing cypress surrounded by pines. You remeber your boss saying that the path should be as straight as possible and as wide as possible. You decide to go ahead and leave that one cypress on the wrong side.\n",
    "\n",
    "You go back and your boss smiles: \"decent job for a rookie\". Tomorrow we'll take the helicopter. By seeing the whole forest at once we'll be able to find the right balance between the entire path's location and width. And yes, we'll have to make some compromises and likely leave some trees on the wrong side, but all in all visitors will get the split experience of pines on your right eye and cypresses on your left. Quite a spectacle.\n",
    "\n",
    "\n",
    "\n",
    "I fine-tuned the SVM by optimizing over the parameter C with 3-fold CV. The optimal value is 1.04. To remain a bit truer to the spirit of out-of-sample testing I still optimized on just the training set and obtained a final F1 score of 0.81. Using the full data set the F1 score goes to 0.84."
   ]
  },
  {
   "cell_type": "code",
   "execution_count": 12,
   "metadata": {
    "collapsed": false
   },
   "outputs": [
    {
     "name": "stdout",
     "output_type": "stream",
     "text": [
      "SVC(C=1.0444444444444445, cache_size=200, class_weight=None, coef0=0.0,\n",
      "  decision_function_shape=None, degree=3, gamma='auto', kernel='rbf',\n",
      "  max_iter=-1, probability=False, random_state=None, shrinking=True,\n",
      "  tol=0.001, verbose=False)\n",
      "f1 with optimized parameter (out-of-sample) =  0.812903225806\n",
      "f1 with optimized parameter (in-sample) =  0.842105263158\n"
     ]
    }
   ],
   "source": [
    "# TODO: Fine-tune your model and report the best F1 score\n",
    "\n",
    "# Gridsearch\n",
    "from sklearn.metrics import make_scorer, f1_score\n",
    "sc_fnc = make_scorer(f1_score, greater_is_better=True, pos_label='yes')\n",
    "prm = {'C':np.linspace(0.2,4,10)}\n",
    "\n",
    "from sklearn.grid_search import GridSearchCV\n",
    "clf = svm.SVC()\n",
    "clf_gs = GridSearchCV(clf,prm,scoring=sc_fnc,cv=3)\n",
    "clf_gs.fit(X_train,y_train)\n",
    "print clf_gs.best_estimator_\n",
    "clf_gs.predict(X_test)\n",
    "\n",
    "f1_no_cheat = f1_score(y_test.values, clf_gs.predict(X_test), pos_label='yes')\n",
    "print \"f1 with optimized parameter (out-of-sample) = \", f1_no_cheat\n",
    "\n",
    "# Entire data set\n",
    "clf_gs = GridSearchCV(clf,prm,scoring=sc_fnc,cv=3)\n",
    "clf_gs.fit(X_org_aug,y_org)\n",
    "clf_gs.best_estimator_\n",
    "clf_gs.predict(X_test)\n",
    "\n",
    "f1_cheat = f1_score(y_test.values, clf_gs.predict(X_test), pos_label='yes')\n",
    "print \"f1 with optimized parameter (in-sample) = \", f1_cheat\n",
    "\n",
    "\n",
    "\n"
   ]
  },
  {
   "cell_type": "markdown",
   "metadata": {
    "collapsed": true
   },
   "source": [
    "## 6. Appendix\n",
    "\n",
    "Trying to improve the result I looked into reducing the number of features. I used a decision tree and extracted the most relevant features (with varying degree of max_depth) which suggests: failures, absences, age, health, Mjob_services, goout, and studytime.\n",
    "\n",
    "With a bit of a surprise the reuslts changed very little. With a gridsearch and SVM the best out-of-sample F1 comes to 0.8133, a quite minor improvement. I then tried a decision tree and I obtained very similar results.\n",
    "\n",
    "I would interpret this as suggesting that the algorithms have done a very good job in weeding out the noise from the signal.\n",
    "\n",
    "In the following I estimate the confidence interval of the classifiers which comes out as 0.02 for stratified sampling. Therefore the improvement is not statistically significant.\n",
    "\n",
    "Lastly, I tried to draw the decision boundary picking two dimensions ('absences and 'age') but the data is still very mixed and the boundary will clearly depend on all the other variables too, which were either set to the average or the most popular entry in case of (1,0)'s."
   ]
  },
  {
   "cell_type": "code",
   "execution_count": 16,
   "metadata": {
    "collapsed": false
   },
   "outputs": [
    {
     "name": "stdout",
     "output_type": "stream",
     "text": [
      "Random     = 0.8000 +/- 0.0263\n",
      "Stratified = 0.8048 +/- 0.0200\n"
     ]
    },
    {
     "data": {
      "image/png": "[encoded data removed]",
      "text/plain": [
       "<matplotlib.figure.Figure at 0xaca6240>"
      ]
     },
     "metadata": {},
     "output_type": "display_data"
    }
   ],
   "source": [
    "from sklearn.cross_validation import StratifiedShuffleSplit\n",
    "\n",
    "nS = 50\n",
    "grd_rand = np.zeros((nS, 1))\n",
    "grd_strf = np.zeros((nS, 1))\n",
    "data_tmp = X_org_aug\n",
    "tgt_tmp = y_org.replace(['yes', 'no'], [1, 0])\n",
    "Ix_trn_rnd = np.zeros((num_train, nS))\n",
    "Ix_tst_rnd = np.zeros((num_test, nS))\n",
    "Ix_trn_sss = np.zeros((num_train, nS))\n",
    "Ix_tst_sss = np.zeros((num_test, nS))\n",
    "perf_rnd = np.zeros((nS, 1))\n",
    "perf_sss = np.zeros((nS, 1))\n",
    "\n",
    "from sklearn import svm\n",
    "clf = svm.SVC()\n",
    "\n",
    "mthd = 'test'\n",
    "#mthd = 'train'\n",
    "\n",
    "for i in range(nS):\n",
    "    # print \"Sub-sample %i/%i\" %(i+1,nS)\n",
    "    \n",
    "    # Random sampling\n",
    "    ixs_rnd = shuffle(data_tmp.index, random_state=i)\n",
    "    ix_trn_rnd, ix_tst_rnd = ixs_rnd[:num_train], ixs_rnd[num_train:]\n",
    "    Ix_trn_rnd[:, i] = ix_trn_rnd\n",
    "    Ix_tst_rnd[:, i] = ix_tst_rnd\n",
    "    clf.fit(data_tmp.iloc[Ix_trn_rnd[:, i]], tgt_tmp[Ix_trn_rnd[:, i]])\n",
    "    if mthd=='test':\n",
    "        perf_rnd[i] = f1_score(tgt_tmp[Ix_tst_rnd[:, i]], clf.predict(data_tmp.iloc[Ix_tst_rnd[:, i]]))\n",
    "    else:\n",
    "        perf_rnd[i] = f1_score(tgt_tmp[Ix_trn_rnd[:, i]], clf.predict(data_tmp.iloc[Ix_trn_rnd[:, i]]))\n",
    "        \n",
    "    \n",
    "    # Stratified sampling\n",
    "    sss = StratifiedShuffleSplit(y_tgt, 1, test_size=num_test, random_state=i)\n",
    "    for train_index, test_index in sss: _ = False\n",
    "    Ix_trn_sss[:, i] = train_index\n",
    "    Ix_tst_sss[:, i] = test_index\n",
    "    clf.fit(data_tmp.iloc[Ix_trn_sss[:, i]], tgt_tmp[Ix_trn_sss[:, i]])\n",
    "    if mthd=='test':\n",
    "        perf_sss[i] = f1_score(tgt_tmp[Ix_tst_sss[:, i]], clf.predict(data_tmp.iloc[Ix_tst_sss[:, i]]))\n",
    "    else:\n",
    "        perf_sss[i] = f1_score(tgt_tmp[Ix_trn_sss[:, i]], clf.predict(data_tmp.iloc[Ix_trn_sss[:, i]]))\n",
    "        \n",
    "\n",
    "ind = np.arange(1, nS+1)\n",
    "fig = pl.figure()\n",
    "ax = fig.add_subplot(111)\n",
    "ax.plot(ind,perf_rnd, label='Random')\n",
    "ax.plot(ind,perf_sss, label='Stratified')\n",
    "ax.legend()\n",
    "\n",
    "print \"Random     = %1.4f +/- %1.4f\" %(perf_rnd.mean(),perf_rnd.std())\n",
    "print \"Stratified = %1.4f +/- %1.4f\" %(perf_sss.mean(),perf_sss.std())\n",
    "\n",
    "\n",
    "\n"
   ]
  },
  {
   "cell_type": "code",
   "execution_count": 26,
   "metadata": {
    "collapsed": false
   },
   "outputs": [
    {
     "data": {
      "text/plain": [
       "<matplotlib.text.Text at 0xc45ae80>"
      ]
     },
     "execution_count": 26,
     "metadata": {},
     "output_type": "execute_result"
    },
    {
     "data": {
      "image/png": "[encoded data removed]",
      "text/plain": [
       "<matplotlib.figure.Figure at 0xb213630>"
      ]
     },
     "metadata": {},
     "output_type": "display_data"
    }
   ],
   "source": [
    "# SVM decision border\n",
    "X = X_train.values\n",
    "x = X_train.absences.values\n",
    "y = X_train.age.values\n",
    "\n",
    "h_x = 5\n",
    "h_y = 1\n",
    "dx = 0.1\n",
    "dy = 0.1\n",
    "x_min, x_max = x.min()-dx, x.max()+dx\n",
    "y_min, y_max = y.min()-dy, y.max()+dy\n",
    "xx, yy = np.meshgrid(np.arange(x_min, x_max, h_x),\n",
    "                     np.arange(y_min, y_max, h_y))\n",
    "\n",
    "# np.arange() Returns evenly spaced values within a given interval\n",
    "# xx varies by axis = 1\n",
    "# yy varies by axis = 0\n",
    "#(x=absences, age=y)\n",
    "\n",
    "# Now you need to create input vectors for all other values in X_train\n",
    "# I will create inputs which are either = average or most popular in case\n",
    "# the variable is digital\n",
    "df = X_train.copy()\n",
    "\n",
    "for col in df.columns:\n",
    "    if df[col].dtype != object:\n",
    "        u = df[col].unique()\n",
    "        if len(u)>2:\n",
    "            df[col] = df[col].mean()\n",
    "        elif len(u)==2:\n",
    "            if len(df[col]==u[0]) > len(df[col]==u[1]):\n",
    "                df[col] = u[0]\n",
    "            else:\n",
    "                df[col] = u[1]\n",
    "\n",
    "nS = xx.ravel().shape[0]\n",
    "X_train_avg = DataFrame(np.tile(df.ix[0,:], [nS, 1]), columns=X_train.columns)\n",
    "\n",
    "X_train_avg['age'] = yy.ravel()\n",
    "X_train_avg['absences'] = xx.ravel()\n",
    "\n",
    "from sklearn import svm\n",
    "clf = svm.SVC()\n",
    "clf.fit(X_train, y_train.replace(['yes', 'no'], [1, 0]))\n",
    "y_tmp = clf.predict(X_train_avg)\n",
    "\n",
    "y_tmp = y_tmp.reshape(xx.shape)\n",
    "pl.contourf(xx, yy, y_tmp, alpha=0.8)\n",
    "\n",
    "ixY = y_tgt==1\n",
    "ixN = y_tgt==0\n",
    "pl.scatter(X_train.ix[ixY, 'absences'], X_train.ix[ixY, 'age'], c=[0, 1, 1])\n",
    "pl.scatter(X_train.ix[ixN, 'absences'], X_train.ix[ixN, 'age'], c=[0, 0, 1])\n",
    "pl.xlabel('Absences')\n",
    "pl.ylabel('Age')\n",
    "\n"
   ]
  },
  {
   "cell_type": "code",
   "execution_count": null,
   "metadata": {
    "collapsed": true
   },
   "outputs": [],
   "source": []
  }
 ],
 "metadata": {
  "kernelspec": {
   "display_name": "Python 2",
   "language": "python",
   "name": "python2"
  },
  "language_info": {
   "codemirror_mode": {
    "name": "ipython",
    "version": 2
   },
   "file_extension": ".py",
   "mimetype": "text/x-python",
   "name": "python",
   "nbconvert_exporter": "python",
   "pygments_lexer": "ipython2",
   "version": "2.7.11"
  }
 },
 "nbformat": 4,
 "nbformat_minor": 0
}
